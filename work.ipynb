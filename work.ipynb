{
 "cells": [
  {
   "cell_type": "code",
   "execution_count": null,
   "metadata": {},
   "outputs": [],
   "source": [
    "from unidec import *"
   ]
  },
  {
   "cell_type": "code",
   "execution_count": null,
   "metadata": {},
   "outputs": [],
   "source": [
    "eng = UniDec()\n",
    "\n",
    "# filename = \"BSA.txt\"\n",
    "# path = \"bin/Example Data\"\n",
    "# eng.open_file(filename, path, load_results=True)\n",
    "# eng.run_unidec()\n",
    "\n",
    "\n"
   ]
  },
  {
   "cell_type": "code",
   "execution_count": null,
   "metadata": {},
   "outputs": [],
   "source": [
    "file_name=\"test.txt\"\n",
    "folder=\"C:\\\\data\"\n",
    "\n",
    "eng=unidec.UniDec()\n",
    "\n",
    "eng.open_file(file_name, folder)\n",
    "\n",
    "eng.process_data()\n",
    "eng.run_unidec(silent=True)\n",
    "eng.pick_peaks()"
   ]
  },
  {
   "cell_type": "code",
   "execution_count": 11,
   "metadata": {},
   "outputs": [
    {
     "name": "stdout",
     "output_type": "stream",
     "text": [
      "Could not import data reader: unidectools\n",
      "[WinError 126] The specified module could not be found\n",
      "e:\\unidec\\unidec\\modules\\waters_importer\\MassLynxRaw.dll\n",
      "True\n",
      "[WinError 126] The specified module could not be found\n",
      "e:\\unidec\\unidec\\modules\\waters_importer\\MassLynxRaw.dll\n",
      "True\n",
      "['e:\\\\unidec\\\\unidec\\\\__main__.py', '-f', 'E:/test.txt']\n",
      "Running Command Line UniDec\n",
      "\n",
      "UniDec Engine v.7.0.2\n",
      "\n",
      "UniDec Path: e:\\unidec\\unidec\\bin\\unidec.exe\n",
      "Opening File: E:/test.txt\n",
      "Opening File:  E:/test.txt\n",
      "Output Directory: E:/test_unidecfiles\n",
      "Loading Time: 7.1s\n",
      "Test\n",
      "Data Prep Time: 5.8s\n",
      "Automatic Peak Width: 0.01092\n",
      "System Call: ['e:\\\\unidec\\\\unidec\\\\bin\\\\unidec.exe', 'E:/test_unidecfiles\\\\test_conf.dat']\n",
      "infile = E:/test_unidecfiles\\test_input.dat\n",
      "UniDec Run\n",
      "Length of Data: 286577 \n",
      "Maxlength: 32 \t Total Size: 0 GB\n",
      "Test: 0\n",
      "Making Peak Shape 2D\n",
      "mzdist set: 1.000000\t maxlength: 32\n",
      "Charges blurred: 3  Masses blurred: 1\n",
      "Iterating...Converged in 21 iterations.\n",
      "Massmin: 5000.000000  Massmax: 98800.000000  Mass axis length: 9380\n",
      "Average Peaks Score (UniScore): 0.385663\n",
      "Deconvolution Time: 22.916000\n",
      "Finished with 21 iterations in 25.591002 seconds!\n",
      "\n",
      "\n",
      "unidec run 26s\n",
      "File Name:  E:/test.txt R Squared:  0.9411400183465153\n"
     ]
    },
    {
     "name": "stderr",
     "output_type": "stream",
     "text": [
      "Traceback (most recent call last):\n",
      "  File \"c:\\Users\\benja\\miniconda3\\envs\\unidec\\lib\\runpy.py\", line 193, in _run_module_as_main\n",
      "    \"__main__\", mod_spec)\n",
      "  File \"c:\\Users\\benja\\miniconda3\\envs\\unidec\\lib\\runpy.py\", line 85, in _run_code\n",
      "    exec(code, run_globals)\n",
      "  File \"e:\\unidec\\unidec\\__main__.py\", line 13, in <module>\n",
      "    main()\n",
      "  File \"e:\\unidec\\unidec\\__main__.py\", line 9, in main\n",
      "    UniDec(*sys.argv)\n",
      "  File \"e:\\unidec\\unidec\\engine.py\", line 81, in __init__\n",
      "    self.autorun()\n",
      "  File \"e:\\unidec\\unidec\\engine.py\", line 589, in autorun\n",
      "    self.pick_peaks()\n",
      "  File \"e:\\unidec\\unidec\\engine.py\", line 497, in pick_peaks\n",
      "    self.setup_peaks(peaks)\n",
      "  File \"e:\\unidec\\unidec\\engine.py\", line 534, in setup_peaks\n",
      "    self.pks.default_params(cmap=self.config.peakcmap)\n",
      "  File \"e:\\unidec\\unidec\\modules\\peakstructure.py\", line 199, in default_params\n",
      "    self.colormap = mpl.colormaps[cmap].resampled(len(self.peaks))\n",
      "AttributeError: 'LinearSegmentedColormap' object has no attribute 'resampled'\n"
     ]
    }
   ],
   "source": [
    "!python -m unidec -f \"E:/test.txt\""
   ]
  }
 ],
 "metadata": {
  "kernelspec": {
   "display_name": "unidec",
   "language": "python",
   "name": "python3"
  },
  "language_info": {
   "codemirror_mode": {
    "name": "ipython",
    "version": 3
   },
   "file_extension": ".py",
   "mimetype": "text/x-python",
   "name": "python",
   "nbconvert_exporter": "python",
   "pygments_lexer": "ipython3",
   "version": "3.7.12"
  }
 },
 "nbformat": 4,
 "nbformat_minor": 2
}
